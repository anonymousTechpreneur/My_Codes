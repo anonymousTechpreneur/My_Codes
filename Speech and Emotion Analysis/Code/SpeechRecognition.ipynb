{
 "cells": [
  {
   "cell_type": "code",
   "execution_count": 1,
   "metadata": {},
   "outputs": [],
   "source": [
    "import os\n",
    "import librosa\n",
    "import IPython.display as ipd\n",
    "import matplotlib.pyplot as plt\n",
    "import numpy as np\n",
    "from scipy.io import wavfile"
   ]
  },
  {
   "cell_type": "code",
   "execution_count": 2,
   "metadata": {},
   "outputs": [
    {
     "name": "stdout",
     "output_type": "stream",
     "text": [
      "16000\n"
     ]
    }
   ],
   "source": [
    "trainDir = 'train/'\n",
    "samples, sample_rate = librosa.load(trainDir+'bed/00176480_nohash_0.wav', sr = 16000)\n",
    "ipd.Audio(samples, rate=sample_rate)\n",
    "print(sample_rate)"
   ]
  },
  {
   "cell_type": "code",
   "execution_count": 3,
   "metadata": {},
   "outputs": [
    {
     "data": {
      "text/html": [
       "\n",
       "                <audio  controls=\"controls\" >\n",
       "                    <source src=\"data:audio/wav;base64,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\" type=\"audio/wav\" />\n",
       "                    Your browser does not support the audio element.\n",
       "                </audio>\n",
       "              "
      ],
      "text/plain": [
       "<IPython.lib.display.Audio object>"
      ]
     },
     "execution_count": 3,
     "metadata": {},
     "output_type": "execute_result"
    }
   ],
   "source": [
    "samples = librosa.resample(samples, sample_rate, 8000)\n",
    "ipd.Audio(samples, rate=8000)"
   ]
  },
  {
   "cell_type": "code",
   "execution_count": 4,
   "metadata": {},
   "outputs": [],
   "source": [
    "labels=os.listdir(trainDir)"
   ]
  },
  {
   "cell_type": "code",
   "execution_count": 5,
   "metadata": {},
   "outputs": [],
   "source": [
    "no_of_recordings=[]\n",
    "for label in labels:\n",
    "    waves = [f for f in os.listdir(trainDir + '/'+ label) if f.endswith('.wav')]\n",
    "    no_of_recordings.append(len(waves))"
   ]
  },
  {
   "cell_type": "code",
   "execution_count": 6,
   "metadata": {},
   "outputs": [],
   "source": [
    "labels=[\"bed\", \"bird\", \"cat\", \"dog\", \"down\", \"eight\", \"five\", \"four\"]"
   ]
  },
  {
   "cell_type": "code",
   "execution_count": 7,
   "metadata": {},
   "outputs": [
    {
     "data": {
      "text/plain": [
       "(array([2.0000e+00, 6.0000e+00, 4.2000e+01, 2.6000e+01, 9.0000e+01,\n",
       "        1.5600e+02, 2.3300e+02, 1.9800e+02, 3.4800e+02, 1.3522e+04]),\n",
       " array([0.384 , 0.4456, 0.5072, 0.5688, 0.6304, 0.692 , 0.7536, 0.8152,\n",
       "        0.8768, 0.9384, 1.    ]),\n",
       " <a list of 10 Patch objects>)"
      ]
     },
     "execution_count": 7,
     "metadata": {},
     "output_type": "execute_result"
    },
    {
     "data": {
      "image/png": "[encoded data removed]",
      "text/plain": [
       "<Figure size 432x288 with 1 Axes>"
      ]
     },
     "metadata": {
      "needs_background": "light"
     },
     "output_type": "display_data"
    }
   ],
   "source": [
    "duration_of_recordings=[]\n",
    "for label in labels:\n",
    "    waves = [f for f in os.listdir(trainDir + '/'+ label) if f.endswith('.wav')]\n",
    "    for wav in waves:\n",
    "        sample_rate, samples = wavfile.read(trainDir + '/' + label + '/' + wav)\n",
    "        duration_of_recordings.append(float(len(samples)/sample_rate))\n",
    "    \n",
    "plt.hist(np.array(duration_of_recordings))"
   ]
  },
  {
   "cell_type": "code",
   "execution_count": 8,
   "metadata": {},
   "outputs": [
    {
     "name": "stdout",
     "output_type": "stream",
     "text": [
      "bed\n",
      "bird\n",
      "cat\n",
      "dog\n",
      "down\n",
      "eight\n",
      "five\n",
      "four\n"
     ]
    }
   ],
   "source": [
    "trainDir = 'train/'\n",
    "all_wave = []\n",
    "all_label = []\n",
    "for label in labels:\n",
    "    print(label)\n",
    "    waves = [f for f in os.listdir(trainDir + '/'+ label) if f.endswith('.wav')]\n",
    "    for wav in waves:\n",
    "        samples, sample_rate = librosa.load(trainDir + '/' + label + '/' + wav, sr = 16000)\n",
    "        samples = librosa.resample(samples, sample_rate, 8000)\n",
    "        if(len(samples)== 8000) : \n",
    "            all_wave.append(samples)\n",
    "            all_label.append(label)"
   ]
  },
  {
   "cell_type": "code",
   "execution_count": 66,
   "metadata": {},
   "outputs": [
    {
     "name": "stdout",
     "output_type": "stream",
     "text": [
      "['bed', 'bird', 'cat', 'dog', 'down', 'eight', 'five', 'four']\n"
     ]
    }
   ],
   "source": [
    "from sklearn.preprocessing import LabelEncoder\n",
    "le = LabelEncoder()\n",
    "y=le.fit_transform(all_label)\n",
    "classes= list(le.classes_)\n",
    "print(classes)"
   ]
  },
  {
   "cell_type": "code",
   "execution_count": 42,
   "metadata": {},
   "outputs": [],
   "source": [
    "from keras.utils import np_utils\n",
    "y=np_utils.to_categorical(y, num_classes=len(labels))"
   ]
  },
  {
   "cell_type": "code",
   "execution_count": 43,
   "metadata": {},
   "outputs": [],
   "source": [
    "all_wave = np.array(all_wave).reshape(-1,8000,1)\n"
   ]
  },
  {
   "cell_type": "code",
   "execution_count": 44,
   "metadata": {},
   "outputs": [],
   "source": [
    "\n",
    "from sklearn.model_selection import train_test_split\n",
    "x_tr, x_val, y_tr, y_val = train_test_split(np.array(all_wave),np.array(y),stratify=y,test_size = 0.2,random_state=777,shuffle=True)"
   ]
  },
  {
   "cell_type": "code",
   "execution_count": 45,
   "metadata": {},
   "outputs": [
    {
     "name": "stdout",
     "output_type": "stream",
     "text": [
      "Model: \"functional_1\"\n",
      "_________________________________________________________________\n",
      "Layer (type)                 Output Shape              Param #   \n",
      "=================================================================\n",
      "input_1 (InputLayer)         [(None, 8000, 1)]         0         \n",
      "_________________________________________________________________\n",
      "conv1d (Conv1D)              (None, 7988, 8)           112       \n",
      "_________________________________________________________________\n",
      "max_pooling1d (MaxPooling1D) (None, 2662, 8)           0         \n",
      "_________________________________________________________________\n",
      "dropout (Dropout)            (None, 2662, 8)           0         \n",
      "_________________________________________________________________\n",
      "conv1d_1 (Conv1D)            (None, 2652, 16)          1424      \n",
      "_________________________________________________________________\n",
      "max_pooling1d_1 (MaxPooling1 (None, 884, 16)           0         \n",
      "_________________________________________________________________\n",
      "dropout_1 (Dropout)          (None, 884, 16)           0         \n",
      "_________________________________________________________________\n",
      "conv1d_2 (Conv1D)            (None, 876, 32)           4640      \n",
      "_________________________________________________________________\n",
      "max_pooling1d_2 (MaxPooling1 (None, 292, 32)           0         \n",
      "_________________________________________________________________\n",
      "dropout_2 (Dropout)          (None, 292, 32)           0         \n",
      "_________________________________________________________________\n",
      "conv1d_3 (Conv1D)            (None, 286, 64)           14400     \n",
      "_________________________________________________________________\n",
      "max_pooling1d_3 (MaxPooling1 (None, 95, 64)            0         \n",
      "_________________________________________________________________\n",
      "dropout_3 (Dropout)          (None, 95, 64)            0         \n",
      "_________________________________________________________________\n",
      "flatten (Flatten)            (None, 6080)              0         \n",
      "_________________________________________________________________\n",
      "dense (Dense)                (None, 256)               1556736   \n",
      "_________________________________________________________________\n",
      "dropout_4 (Dropout)          (None, 256)               0         \n",
      "_________________________________________________________________\n",
      "dense_1 (Dense)              (None, 128)               32896     \n",
      "_________________________________________________________________\n",
      "dropout_5 (Dropout)          (None, 128)               0         \n",
      "_________________________________________________________________\n",
      "dense_2 (Dense)              (None, 8)                 1032      \n",
      "=================================================================\n",
      "Total params: 1,611,240\n",
      "Trainable params: 1,611,240\n",
      "Non-trainable params: 0\n",
      "_________________________________________________________________\n"
     ]
    }
   ],
   "source": [
    "from keras.layers import Dense, Dropout, Flatten, Conv1D, Input, MaxPooling1D\n",
    "from keras.models import Model\n",
    "from keras.callbacks import EarlyStopping, ModelCheckpoint\n",
    "from keras import backend as K\n",
    "K.clear_session()\n",
    "\n",
    "inputs = Input(shape=(8000,1))\n",
    "\n",
    "#First Conv1D layer\n",
    "conv = Conv1D(8,13, padding='valid', activation='relu', strides=1)(inputs)\n",
    "conv = MaxPooling1D(3)(conv)\n",
    "conv = Dropout(0.3)(conv)\n",
    "\n",
    "#Second Conv1D layer\n",
    "conv = Conv1D(16, 11, padding='valid', activation='relu', strides=1)(conv)\n",
    "conv = MaxPooling1D(3)(conv)\n",
    "conv = Dropout(0.3)(conv)\n",
    "\n",
    "#Third Conv1D layer\n",
    "conv = Conv1D(32, 9, padding='valid', activation='relu', strides=1)(conv)\n",
    "conv = MaxPooling1D(3)(conv)\n",
    "conv = Dropout(0.3)(conv)\n",
    "\n",
    "#Fourth Conv1D layer\n",
    "conv = Conv1D(64, 7, padding='valid', activation='relu', strides=1)(conv)\n",
    "conv = MaxPooling1D(3)(conv)\n",
    "conv = Dropout(0.3)(conv)\n",
    "\n",
    "#Flatten layer\n",
    "conv = Flatten()(conv)\n",
    "\n",
    "#Dense Layer 1\n",
    "conv = Dense(256, activation='relu')(conv)\n",
    "conv = Dropout(0.3)(conv)\n",
    "\n",
    "#Dense Layer 2\n",
    "conv = Dense(128, activation='relu')(conv)\n",
    "conv = Dropout(0.3)(conv)\n",
    "\n",
    "outputs = Dense(len(labels), activation='softmax')(conv)\n",
    "\n",
    "model = Model(inputs, outputs)\n",
    "model.summary()"
   ]
  },
  {
   "cell_type": "code",
   "execution_count": 46,
   "metadata": {},
   "outputs": [],
   "source": [
    "model.compile(loss='categorical_crossentropy',optimizer='adam',metrics=['accuracy'])\n"
   ]
  },
  {
   "cell_type": "code",
   "execution_count": 47,
   "metadata": {},
   "outputs": [
    {
     "name": "stdout",
     "output_type": "stream",
     "text": [
      "(10448, 8000, 1) (2613, 8000, 1) (10448, 8) (2613, 8)\n"
     ]
    }
   ],
   "source": [
    "es = EarlyStopping(monitor='val_loss', mode='min', verbose=1, patience=10, min_delta=0.0001) \n",
    "mc = ModelCheckpoint('voiceRecModel.hdf5', monitor='val_acc', verbose=1, save_best_only=True, mode='max')\n",
    "print(x_tr.shape, x_val.shape, y_tr.shape, y_val.shape)"
   ]
  },
  {
   "cell_type": "code",
   "execution_count": 48,
   "metadata": {},
   "outputs": [
    {
     "name": "stdout",
     "output_type": "stream",
     "text": [
      "Epoch 1/100\n",
      "327/327 [==============================] - ETA: 0s - loss: 1.8418 - accuracy: 0.2798WARNING:tensorflow:Can save best model only with val_acc available, skipping.\n",
      "327/327 [==============================] - 81s 249ms/step - loss: 1.8418 - accuracy: 0.2798 - val_loss: 1.5767 - val_accuracy: 0.3980\n",
      "Epoch 2/100\n",
      "327/327 [==============================] - ETA: 0s - loss: 1.5005 - accuracy: 0.4314WARNING:tensorflow:Can save best model only with val_acc available, skipping.\n",
      "327/327 [==============================] - 80s 245ms/step - loss: 1.5005 - accuracy: 0.4314 - val_loss: 1.3955 - val_accuracy: 0.4895\n",
      "Epoch 3/100\n",
      "327/327 [==============================] - ETA: 0s - loss: 1.2266 - accuracy: 0.5492WARNING:tensorflow:Can save best model only with val_acc available, skipping.\n",
      "327/327 [==============================] - 80s 245ms/step - loss: 1.2266 - accuracy: 0.5492 - val_loss: 0.9479 - val_accuracy: 0.6778\n",
      "Epoch 4/100\n",
      "327/327 [==============================] - ETA: 0s - loss: 0.9542 - accuracy: 0.6667WARNING:tensorflow:Can save best model only with val_acc available, skipping.\n",
      "327/327 [==============================] - 82s 252ms/step - loss: 0.9542 - accuracy: 0.6667 - val_loss: 1.0126 - val_accuracy: 0.6640\n",
      "Epoch 5/100\n",
      "327/327 [==============================] - ETA: 0s - loss: 0.7959 - accuracy: 0.7228WARNING:tensorflow:Can save best model only with val_acc available, skipping.\n",
      "327/327 [==============================] - 81s 249ms/step - loss: 0.7959 - accuracy: 0.7228 - val_loss: 0.7123 - val_accuracy: 0.7608\n",
      "Epoch 6/100\n",
      "327/327 [==============================] - ETA: 0s - loss: 0.7009 - accuracy: 0.7638WARNING:tensorflow:Can save best model only with val_acc available, skipping.\n",
      "327/327 [==============================] - 82s 249ms/step - loss: 0.7009 - accuracy: 0.7638 - val_loss: 0.5698 - val_accuracy: 0.8098\n",
      "Epoch 7/100\n",
      "327/327 [==============================] - ETA: 0s - loss: 0.5825 - accuracy: 0.8047WARNING:tensorflow:Can save best model only with val_acc available, skipping.\n",
      "327/327 [==============================] - 81s 247ms/step - loss: 0.5825 - accuracy: 0.8047 - val_loss: 0.6855 - val_accuracy: 0.7799\n",
      "Epoch 8/100\n",
      "327/327 [==============================] - ETA: 0s - loss: 0.5369 - accuracy: 0.8184WARNING:tensorflow:Can save best model only with val_acc available, skipping.\n",
      "327/327 [==============================] - 81s 247ms/step - loss: 0.5369 - accuracy: 0.8184 - val_loss: 0.5265 - val_accuracy: 0.8316\n",
      "Epoch 9/100\n",
      "327/327 [==============================] - ETA: 0s - loss: 0.4982 - accuracy: 0.8329WARNING:tensorflow:Can save best model only with val_acc available, skipping.\n",
      "327/327 [==============================] - 80s 244ms/step - loss: 0.4982 - accuracy: 0.8329 - val_loss: 0.5012 - val_accuracy: 0.8370\n",
      "Epoch 10/100\n",
      "327/327 [==============================] - ETA: 0s - loss: 0.4442 - accuracy: 0.8495WARNING:tensorflow:Can save best model only with val_acc available, skipping.\n",
      "327/327 [==============================] - 80s 245ms/step - loss: 0.4442 - accuracy: 0.8495 - val_loss: 0.4256 - val_accuracy: 0.8584\n",
      "Epoch 11/100\n",
      "327/327 [==============================] - ETA: 0s - loss: 0.4126 - accuracy: 0.8635WARNING:tensorflow:Can save best model only with val_acc available, skipping.\n",
      "327/327 [==============================] - 80s 245ms/step - loss: 0.4126 - accuracy: 0.8635 - val_loss: 0.5258 - val_accuracy: 0.8289\n",
      "Epoch 12/100\n",
      "327/327 [==============================] - ETA: 0s - loss: 0.3921 - accuracy: 0.8616WARNING:tensorflow:Can save best model only with val_acc available, skipping.\n",
      "327/327 [==============================] - 80s 245ms/step - loss: 0.3921 - accuracy: 0.8616 - val_loss: 0.4794 - val_accuracy: 0.8550\n",
      "Epoch 13/100\n",
      "327/327 [==============================] - ETA: 0s - loss: 0.3744 - accuracy: 0.8756WARNING:tensorflow:Can save best model only with val_acc available, skipping.\n",
      "327/327 [==============================] - 81s 248ms/step - loss: 0.3744 - accuracy: 0.8756 - val_loss: 0.3578 - val_accuracy: 0.8798\n",
      "Epoch 14/100\n",
      "327/327 [==============================] - ETA: 0s - loss: 0.3555 - accuracy: 0.8800WARNING:tensorflow:Can save best model only with val_acc available, skipping.\n",
      "327/327 [==============================] - 80s 245ms/step - loss: 0.3555 - accuracy: 0.8800 - val_loss: 0.3669 - val_accuracy: 0.8821\n",
      "Epoch 15/100\n",
      "327/327 [==============================] - ETA: 0s - loss: 0.3280 - accuracy: 0.8881WARNING:tensorflow:Can save best model only with val_acc available, skipping.\n",
      "327/327 [==============================] - 80s 245ms/step - loss: 0.3280 - accuracy: 0.8881 - val_loss: 0.4199 - val_accuracy: 0.8741\n",
      "Epoch 16/100\n",
      "327/327 [==============================] - ETA: 0s - loss: 0.3145 - accuracy: 0.8921WARNING:tensorflow:Can save best model only with val_acc available, skipping.\n",
      "327/327 [==============================] - 84s 256ms/step - loss: 0.3145 - accuracy: 0.8921 - val_loss: 0.3910 - val_accuracy: 0.8848\n",
      "Epoch 17/100\n",
      "327/327 [==============================] - ETA: 0s - loss: 0.3118 - accuracy: 0.8940WARNING:tensorflow:Can save best model only with val_acc available, skipping.\n",
      "327/327 [==============================] - 81s 248ms/step - loss: 0.3118 - accuracy: 0.8940 - val_loss: 0.4206 - val_accuracy: 0.8657\n",
      "Epoch 18/100\n",
      "327/327 [==============================] - ETA: 0s - loss: 0.2807 - accuracy: 0.9032WARNING:tensorflow:Can save best model only with val_acc available, skipping.\n",
      "327/327 [==============================] - 81s 248ms/step - loss: 0.2807 - accuracy: 0.9032 - val_loss: 0.3482 - val_accuracy: 0.8940\n",
      "Epoch 19/100\n",
      "327/327 [==============================] - ETA: 0s - loss: 0.2915 - accuracy: 0.9036WARNING:tensorflow:Can save best model only with val_acc available, skipping.\n",
      "327/327 [==============================] - 81s 247ms/step - loss: 0.2915 - accuracy: 0.9036 - val_loss: 0.3359 - val_accuracy: 0.8936\n",
      "Epoch 20/100\n",
      "327/327 [==============================] - ETA: 0s - loss: 0.2739 - accuracy: 0.9077WARNING:tensorflow:Can save best model only with val_acc available, skipping.\n",
      "327/327 [==============================] - 81s 249ms/step - loss: 0.2739 - accuracy: 0.9077 - val_loss: 0.3765 - val_accuracy: 0.8879\n",
      "Epoch 21/100\n",
      "327/327 [==============================] - ETA: 0s - loss: 0.2505 - accuracy: 0.9180WARNING:tensorflow:Can save best model only with val_acc available, skipping.\n",
      "327/327 [==============================] - 81s 249ms/step - loss: 0.2505 - accuracy: 0.9180 - val_loss: 0.3375 - val_accuracy: 0.8997\n",
      "Epoch 22/100\n",
      "327/327 [==============================] - ETA: 0s - loss: 0.2460 - accuracy: 0.9175WARNING:tensorflow:Can save best model only with val_acc available, skipping.\n",
      "327/327 [==============================] - 81s 248ms/step - loss: 0.2460 - accuracy: 0.9175 - val_loss: 0.3552 - val_accuracy: 0.8940\n",
      "Epoch 23/100\n",
      "327/327 [==============================] - ETA: 0s - loss: 0.2576 - accuracy: 0.9120WARNING:tensorflow:Can save best model only with val_acc available, skipping.\n",
      "327/327 [==============================] - 82s 251ms/step - loss: 0.2576 - accuracy: 0.9120 - val_loss: 0.3163 - val_accuracy: 0.8993\n",
      "Epoch 24/100\n",
      "327/327 [==============================] - ETA: 0s - loss: 0.2353 - accuracy: 0.9213WARNING:tensorflow:Can save best model only with val_acc available, skipping.\n",
      "327/327 [==============================] - 81s 248ms/step - loss: 0.2353 - accuracy: 0.9213 - val_loss: 0.3740 - val_accuracy: 0.8879\n",
      "Epoch 25/100\n",
      "327/327 [==============================] - ETA: 0s - loss: 0.2375 - accuracy: 0.9190WARNING:tensorflow:Can save best model only with val_acc available, skipping.\n",
      "327/327 [==============================] - 81s 249ms/step - loss: 0.2375 - accuracy: 0.9190 - val_loss: 0.3979 - val_accuracy: 0.8810\n",
      "Epoch 26/100\n",
      "327/327 [==============================] - ETA: 0s - loss: 0.2117 - accuracy: 0.9285WARNING:tensorflow:Can save best model only with val_acc available, skipping.\n",
      "327/327 [==============================] - 82s 252ms/step - loss: 0.2117 - accuracy: 0.9285 - val_loss: 0.3526 - val_accuracy: 0.8909\n",
      "Epoch 27/100\n",
      "327/327 [==============================] - ETA: 0s - loss: 0.2039 - accuracy: 0.9302WARNING:tensorflow:Can save best model only with val_acc available, skipping.\n"
     ]
    },
    {
     "name": "stdout",
     "output_type": "stream",
     "text": [
      "327/327 [==============================] - 82s 250ms/step - loss: 0.2039 - accuracy: 0.9302 - val_loss: 0.3794 - val_accuracy: 0.8879\n",
      "Epoch 28/100\n",
      "327/327 [==============================] - ETA: 0s - loss: 0.2028 - accuracy: 0.9334WARNING:tensorflow:Can save best model only with val_acc available, skipping.\n",
      "327/327 [==============================] - 81s 247ms/step - loss: 0.2028 - accuracy: 0.9334 - val_loss: 0.3591 - val_accuracy: 0.8928\n",
      "Epoch 29/100\n",
      "327/327 [==============================] - ETA: 0s - loss: 0.2015 - accuracy: 0.9294WARNING:tensorflow:Can save best model only with val_acc available, skipping.\n",
      "327/327 [==============================] - 83s 255ms/step - loss: 0.2015 - accuracy: 0.9294 - val_loss: 0.3673 - val_accuracy: 0.8978\n",
      "Epoch 30/100\n",
      "327/327 [==============================] - ETA: 0s - loss: 0.1980 - accuracy: 0.9305WARNING:tensorflow:Can save best model only with val_acc available, skipping.\n",
      "327/327 [==============================] - 84s 257ms/step - loss: 0.1980 - accuracy: 0.9305 - val_loss: 0.4304 - val_accuracy: 0.8806\n",
      "Epoch 31/100\n",
      "327/327 [==============================] - ETA: 0s - loss: 0.1890 - accuracy: 0.9366WARNING:tensorflow:Can save best model only with val_acc available, skipping.\n",
      "327/327 [==============================] - 80s 246ms/step - loss: 0.1890 - accuracy: 0.9366 - val_loss: 0.3204 - val_accuracy: 0.9028\n",
      "Epoch 32/100\n",
      "327/327 [==============================] - ETA: 0s - loss: 0.1726 - accuracy: 0.9408WARNING:tensorflow:Can save best model only with val_acc available, skipping.\n",
      "327/327 [==============================] - 83s 255ms/step - loss: 0.1726 - accuracy: 0.9408 - val_loss: 0.3295 - val_accuracy: 0.8982\n",
      "Epoch 33/100\n",
      "327/327 [==============================] - ETA: 0s - loss: 0.1925 - accuracy: 0.9359WARNING:tensorflow:Can save best model only with val_acc available, skipping.\n",
      "327/327 [==============================] - 90s 275ms/step - loss: 0.1925 - accuracy: 0.9359 - val_loss: 0.3274 - val_accuracy: 0.9028\n",
      "Epoch 00033: early stopping\n"
     ]
    }
   ],
   "source": [
    "history=model.fit(x_tr, y_tr ,epochs=100, callbacks=[es,mc], batch_size=32, validation_data=(x_val,y_val))\n"
   ]
  },
  {
   "cell_type": "code",
   "execution_count": 50,
   "metadata": {},
   "outputs": [],
   "source": [
    "model.save(\"voiceRecModel.hdf5\")"
   ]
  },
  {
   "cell_type": "markdown",
   "metadata": {},
   "source": [
    "# Model Test"
   ]
  },
  {
   "cell_type": "code",
   "execution_count": 67,
   "metadata": {},
   "outputs": [],
   "source": [
    "from keras.models import load_model\n",
    "\n",
    "model = load_model(\"voiceRecModel.hdf5\")"
   ]
  },
  {
   "cell_type": "code",
   "execution_count": 75,
   "metadata": {},
   "outputs": [
    {
     "name": "stdout",
     "output_type": "stream",
     "text": [
      "Audio: five\n"
     ]
    },
    {
     "data": {
      "text/html": [
       "\n",
       "                <audio  controls=\"controls\" >\n",
       "                    <source src=\"data:audio/wav;base64,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\" type=\"audio/wav\" />\n",
       "                    Your browser does not support the audio element.\n",
       "                </audio>\n",
       "              "
      ],
      "text/plain": [
       "<IPython.lib.display.Audio object>"
      ]
     },
     "execution_count": 75,
     "metadata": {},
     "output_type": "execute_result"
    }
   ],
   "source": [
    "def predict(audio):\n",
    "    prob=model.predict(audio.reshape(1,8000,1))\n",
    "    index=np.argmax(prob[0])\n",
    "    return classes[index]\n",
    "\n",
    "import random\n",
    "index=random.randint(0,len(x_val)-1)\n",
    "samples=x_val[index].ravel()\n",
    "print(\"Audio:\",classes[np.argmax(y_val[index])])\n",
    "ipd.Audio(samples, rate=8000)\n",
    "\n"
   ]
  },
  {
   "cell_type": "code",
   "execution_count": 76,
   "metadata": {},
   "outputs": [
    {
     "name": "stdout",
     "output_type": "stream",
     "text": [
      "Text: five\n"
     ]
    }
   ],
   "source": [
    "print(\"Text:\",predict(samples))"
   ]
  },
  {
   "cell_type": "code",
   "execution_count": null,
   "metadata": {},
   "outputs": [],
   "source": []
  }
 ],
 "metadata": {
  "kernelspec": {
   "display_name": "Python 3",
   "language": "python",
   "name": "python3"
  },
  "language_info": {
   "codemirror_mode": {
    "name": "ipython",
    "version": 3
   },
   "file_extension": ".py",
   "mimetype": "text/x-python",
   "name": "python",
   "nbconvert_exporter": "python",
   "pygments_lexer": "ipython3",
   "version": "3.8.3"
  }
 },
 "nbformat": 4,
 "nbformat_minor": 4
}
